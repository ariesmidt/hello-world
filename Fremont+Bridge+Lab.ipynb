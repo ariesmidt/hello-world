{
 "cells": [
  {
   "cell_type": "markdown",
   "metadata": {},
   "source": [
    "## Fremont Bridge Lab "
   ]
  },
  {
   "cell_type": "code",
   "execution_count": 3,
   "metadata": {
    "collapsed": true
   },
   "outputs": [],
   "source": [
    "data_file = open(\"Big data/FreBridge1.csv\", \"r\")\n",
    "bridge_data = [];\n",
    "for ii in data_file:\n",
    "    bridge_data.append(ii);\n",
    "    \n",
    "data_file.close();"
   ]
  },
  {
   "cell_type": "code",
   "execution_count": 4,
   "metadata": {},
   "outputs": [
    {
     "name": "stdout",
     "output_type": "stream",
     "text": [
      "[1393, 1745, 1532, 1425, 826, 466, 1107, 1733, 2070, 1961, 1863, 1178, 648, 1615, 1795, 1782, 1160, 1461, 981, 712, 1824, 2190, 2270, 2086, 1314, 899, 895, 1907, 2097, 1992]\n",
      "[1483, 1867, 1627, 1512, 770, 425, 898, 1932, 2243, 2069, 1898, 1013, 679, 1669, 1862, 1949, 1293, 1539, 853, 591, 1981, 2361, 2292, 2235, 1370, 869, 676, 1955, 2239, 2063]\n"
     ]
    }
   ],
   "source": [
    "# if you want to scan the data in the first list of dates, then go through\n",
    "# your code from before and make sure that you take out the \"del\" code that\n",
    "# deletes your information from list 0, because coders count starting at \n",
    "# 0, meaning that the 2nd list is actually labeled as list 1\n",
    "del bridge_data[0];\n",
    "\n",
    "west = [];\n",
    "east = [];\n",
    "for jj in range(len(bridge_data)):\n",
    "    bridge_data[jj] = bridge_data[jj].split(\",\");\n",
    "    west.append(int(bridge_data[jj][1]));\n",
    "    east.append(int(bridge_data[jj][2]));\n",
    "    \n",
    "print(west);\n",
    "print(east)"
   ]
  },
  {
   "cell_type": "code",
   "execution_count": 5,
   "metadata": {},
   "outputs": [
    {
     "name": "stdout",
     "output_type": "stream",
     "text": [
      "[466, 648, 712, 826, 895, 899, 981, 1107, 1160, 1178, 1314, 1393, 1425, 1461, 1532, 1615, 1733, 1745, 1782, 1795, 1824, 1863, 1907, 1961, 1992, 2070, 2086, 2097, 2190, 2270]\n"
     ]
    }
   ],
   "source": [
    "west.sort()\n",
    "print(west)"
   ]
  },
  {
   "cell_type": "code",
   "execution_count": 6,
   "metadata": {},
   "outputs": [
    {
     "name": "stdout",
     "output_type": "stream",
     "text": [
      "[425, 591, 676, 679, 770, 853, 869, 898, 1013, 1293, 1370, 1483, 1512, 1539, 1627, 1669, 1862, 1867, 1898, 1932, 1949, 1955, 1981, 2063, 2069, 2235, 2239, 2243, 2292, 2361]\n"
     ]
    }
   ],
   "source": [
    "east.sort()\n",
    "print(east)"
   ]
  },
  {
   "cell_type": "code",
   "execution_count": 7,
   "metadata": {},
   "outputs": [
    {
     "name": "stdout",
     "output_type": "stream",
     "text": [
      "west list items 30 Halfway point:  15 Median:  1573.5\n"
     ]
    }
   ],
   "source": [
    "NbrWestXing = len(west);\n",
    "\n",
    "import math;\n",
    "halfwayPoint = math.floor(NbrWestXing/2);\n",
    "\n",
    "if (NbrWestXing % 2) == 0:\n",
    "    median = (west[halfwayPoint] + west[halfwayPoint-1])/2;\n",
    "else:\n",
    "    median = west[halfwayPoint];\n",
    "    \n",
    "print(\"west list items\", NbrWestXing, \"Halfway point: \", halfwayPoint, \"Median: \", median);"
   ]
  },
  {
   "cell_type": "code",
   "execution_count": 18,
   "metadata": {},
   "outputs": [
    {
     "name": "stdout",
     "output_type": "stream",
     "text": [
      "Number of days going east 30 Halfway point:  15 median:  1648.0\n"
     ]
    }
   ],
   "source": [
    "NbrEastXing = len(east);\n",
    "\n",
    "if (NbrEastXing % 2) == 0:\n",
    "    median = (east[halfwayPoint] + east[halfwayPoint-1])/2;\n",
    "else:\n",
    "    median = east[halfwayPoint];\n",
    "    \n",
    "print(\"Number of days going east\", NbrEastXing, \"Halfway point: \", halfwayPoint, \"median: \", median);"
   ]
  },
  {
   "cell_type": "markdown",
   "metadata": {},
   "source": [
    "### WHAT I DID:"
   ]
  },
  {
   "cell_type": "markdown",
   "metadata": {},
   "source": [
    "Basically what happened was when you import the math that can calculate the median, and then break it down based on two seperate directions, both east and west, then you can find the median value for going east and going west over the entire month of september."
   ]
  },
  {
   "cell_type": "markdown",
   "metadata": {},
   "source": [
    "Another interesting thing that I found out was that the Fremont Bridge actually travels north-south, meaning that the east-west crossings may be focusing on something different. Instead, the sensors may just be determining how many bicycles are on the east side of the bridge and the west side of the bridge."
   ]
  },
  {
   "cell_type": "code",
   "execution_count": 19,
   "metadata": {},
   "outputs": [
    {
     "name": "stdout",
     "output_type": "stream",
     "text": [
      "Total:  44927 Number of Items:  30 Average:  1497.5666666666666\n"
     ]
    }
   ],
   "source": [
    "total = 0;\n",
    "\n",
    "for jj in range(NbrWestXing):\n",
    "    total = total + west[jj];\n",
    "avg = total/NbrWestXing;\n",
    "print(\"Total: \", total,\"Number of Items: \",len(west), \"Average: \", avg)"
   ]
  },
  {
   "cell_type": "code",
   "execution_count": 20,
   "metadata": {},
   "outputs": [
    {
     "name": "stdout",
     "output_type": "stream",
     "text": [
      "Total:  46213 Number of Items:  30 Average:  1540.4333333333334\n"
     ]
    }
   ],
   "source": [
    "total = 0;\n",
    "\n",
    "for ii in range(NbrEastXing):\n",
    "    total = total + east[ii];\n",
    "avg = total/NbrEastXing;\n",
    "print(\"Total: \", total,\"Number of Items: \", len(east), \"Average: \", avg)"
   ]
  },
  {
   "cell_type": "markdown",
   "metadata": {},
   "source": [
    "### Final Conclusions"
   ]
  },
  {
   "cell_type": "markdown",
   "metadata": {},
   "source": [
    "My analysis tells me that the code I ran states that there are more east crossings on average each day than there are west crossings. If you think about the geographical location of the fremont bridge, it makes sense why this would be. There are more people going into fremont each day rather than going out of fremont."
   ]
  },
  {
   "cell_type": "markdown",
   "metadata": {
    "collapsed": true
   },
   "source": [
    "* Because my code is not super in-depth, the statistics that I have available to me are not widespread. However, I can still determine that there are more east bikers than there are west bikers going across the Fremont Bridge every day.\n",
    "* I also find it interesting that we wrote down east and west crossings when the Fremont Bridge actually travels north-south.\n",
    "* Other effects that might play a role in crossings both directions would be traffic during the day. If there is a lot of bicycle traffic going one direction, then maybe some people carpool or bus with their bike stored to get to work, and then they bike home after the traffic is not as bad\n",
    "* Another effect could be time of day. If it's too early to ride your bike to work, just take a lime bike home from work and now that's another crossing in one direction but not the other\n",
    "* The point is that there are many ways to get from one point to the next that might play a role in determining the overall numbers of crossings in each direction. Whatever these specific things might be, there are more people travelling east (which I think is actually north)"
   ]
  },
  {
   "cell_type": "code",
   "execution_count": null,
   "metadata": {
    "collapsed": true
   },
   "outputs": [],
   "source": []
  }
 ],
 "metadata": {
  "kernelspec": {
   "display_name": "Python 3",
   "language": "python",
   "name": "python3"
  },
  "language_info": {
   "codemirror_mode": {
    "name": "ipython",
    "version": 3
   },
   "file_extension": ".py",
   "mimetype": "text/x-python",
   "name": "python",
   "nbconvert_exporter": "python",
   "pygments_lexer": "ipython3",
   "version": "3.6.1"
  }
 },
 "nbformat": 4,
 "nbformat_minor": 2
}
